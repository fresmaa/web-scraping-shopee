{
 "cells": [
  {
   "cell_type": "code",
   "execution_count": 15,
   "metadata": {},
   "outputs": [],
   "source": [
    "import requests\n",
    "import pandas as pd"
   ]
  },
  {
   "cell_type": "code",
   "execution_count": 47,
   "metadata": {},
   "outputs": [],
   "source": [
    "shopee_url = 'https://shopee.co.id'\n",
    "\n",
    "header = {\n",
    "    'User-Agent' : 'Chrome'\n",
    "\n",
    "}\n",
    "\n",
    "url =  'https://shopee.co.id/api/v4/search/search_items?by=relevancy&limit=100&match_id=11042849&newest=0&order=desc&page_type=search&scenario=PAGE_OTHERS&version=2'"
   ]
  },
  {
   "cell_type": "code",
   "execution_count": 48,
   "metadata": {},
   "outputs": [],
   "source": [
    "# API\n",
    "r = requests.get(url, headers = header).json()\n",
    "\n",
    "name_list, price_list, sold_list = [],[],[]\n",
    "for name in r['items']:\n",
    "    name_list.append(name['item_basic']['name'])\n",
    "\n",
    "for price in r['items']:\n",
    "    price_list.append(price['item_basic']['price'])\n",
    "\n",
    "for sold in r['items']:\n",
    "    sold_list.append(sold['item_basic']['sold'])\n"
   ]
  },
  {
   "cell_type": "code",
   "execution_count": 49,
   "metadata": {},
   "outputs": [
    {
     "data": {
      "text/plain": [
       "100"
      ]
     },
     "execution_count": 49,
     "metadata": {},
     "output_type": "execute_result"
    }
   ],
   "source": [
    "len(name_list)"
   ]
  },
  {
   "cell_type": "code",
   "execution_count": 50,
   "metadata": {},
   "outputs": [],
   "source": [
    "listCols = ['product_name', 'product_price', 'product_sold']\n",
    "dict_data = dict(zip(\n",
    "            listCols,\n",
    "                (name_list,\n",
    "                 price_list,\n",
    "                 sold_list)\n",
    "))"
   ]
  },
  {
   "cell_type": "code",
   "execution_count": 51,
   "metadata": {},
   "outputs": [
    {
     "data": {
      "text/html": [
       "<div>\n",
       "<style scoped>\n",
       "    .dataframe tbody tr th:only-of-type {\n",
       "        vertical-align: middle;\n",
       "    }\n",
       "\n",
       "    .dataframe tbody tr th {\n",
       "        vertical-align: top;\n",
       "    }\n",
       "\n",
       "    .dataframe thead th {\n",
       "        text-align: right;\n",
       "    }\n",
       "</style>\n",
       "<table border=\"1\" class=\"dataframe\">\n",
       "  <thead>\n",
       "    <tr style=\"text-align: right;\">\n",
       "      <th></th>\n",
       "      <th>product_name</th>\n",
       "      <th>product_price</th>\n",
       "      <th>product_sold</th>\n",
       "    </tr>\n",
       "  </thead>\n",
       "  <tbody>\n",
       "    <tr>\n",
       "      <th>0</th>\n",
       "      <td>Premium 1 set Longjohn Winter Pria / Wanita th...</td>\n",
       "      <td>24250000000</td>\n",
       "      <td>16</td>\n",
       "    </tr>\n",
       "    <tr>\n",
       "      <th>1</th>\n",
       "      <td>Rompi Proyek Jaring Vest X Gosave</td>\n",
       "      <td>795000000</td>\n",
       "      <td>699</td>\n",
       "    </tr>\n",
       "    <tr>\n",
       "      <th>2</th>\n",
       "      <td>Cutting Sablon Logo Custom Polyflex PVC, PU Ko...</td>\n",
       "      <td>10000000</td>\n",
       "      <td>5948</td>\n",
       "    </tr>\n",
       "    <tr>\n",
       "      <th>3</th>\n",
       "      <td>Celana pangsi komprang/ pangsi dewasa ukuran S...</td>\n",
       "      <td>2900000000</td>\n",
       "      <td>56</td>\n",
       "    </tr>\n",
       "    <tr>\n",
       "      <th>4</th>\n",
       "      <td>READY Katelpak skotlet - Wearpack Safety Cover...</td>\n",
       "      <td>7950000000</td>\n",
       "      <td>40</td>\n",
       "    </tr>\n",
       "    <tr>\n",
       "      <th>...</th>\n",
       "      <td>...</td>\n",
       "      <td>...</td>\n",
       "      <td>...</td>\n",
       "    </tr>\n",
       "    <tr>\n",
       "      <th>95</th>\n",
       "      <td>[TERLARIS] CELANA CHINOS COWOK PANJANG KARET P...</td>\n",
       "      <td>5500000000</td>\n",
       "      <td>60</td>\n",
       "    </tr>\n",
       "    <tr>\n",
       "      <th>96</th>\n",
       "      <td>⭐️⭐️⭐️⭐️⭐️✅1̷9̷9̷rb 27-38 Premium Celana Kerja...</td>\n",
       "      <td>3999900000</td>\n",
       "      <td>48</td>\n",
       "    </tr>\n",
       "    <tr>\n",
       "      <th>97</th>\n",
       "      <td>KAOS SERAGAM NATAL (FREE CETAK NAMA)</td>\n",
       "      <td>1500000000</td>\n",
       "      <td>0</td>\n",
       "    </tr>\n",
       "    <tr>\n",
       "      <th>98</th>\n",
       "      <td>Terhitz kemeja panjang pria cowok gatlemen cow...</td>\n",
       "      <td>3900000000</td>\n",
       "      <td>191</td>\n",
       "    </tr>\n",
       "    <tr>\n",
       "      <th>99</th>\n",
       "      <td>Celana Pendek Pria Cargo B0SS 3/4 -PCB34</td>\n",
       "      <td>3490000000</td>\n",
       "      <td>280</td>\n",
       "    </tr>\n",
       "  </tbody>\n",
       "</table>\n",
       "<p>100 rows × 3 columns</p>\n",
       "</div>"
      ],
      "text/plain": [
       "                                         product_name  product_price  \\\n",
       "0   Premium 1 set Longjohn Winter Pria / Wanita th...    24250000000   \n",
       "1                   Rompi Proyek Jaring Vest X Gosave      795000000   \n",
       "2   Cutting Sablon Logo Custom Polyflex PVC, PU Ko...       10000000   \n",
       "3   Celana pangsi komprang/ pangsi dewasa ukuran S...     2900000000   \n",
       "4   READY Katelpak skotlet - Wearpack Safety Cover...     7950000000   \n",
       "..                                                ...            ...   \n",
       "95  [TERLARIS] CELANA CHINOS COWOK PANJANG KARET P...     5500000000   \n",
       "96  ⭐️⭐️⭐️⭐️⭐️✅1̷9̷9̷rb 27-38 Premium Celana Kerja...     3999900000   \n",
       "97               KAOS SERAGAM NATAL (FREE CETAK NAMA)     1500000000   \n",
       "98  Terhitz kemeja panjang pria cowok gatlemen cow...     3900000000   \n",
       "99           Celana Pendek Pria Cargo B0SS 3/4 -PCB34     3490000000   \n",
       "\n",
       "    product_sold  \n",
       "0             16  \n",
       "1            699  \n",
       "2           5948  \n",
       "3             56  \n",
       "4             40  \n",
       "..           ...  \n",
       "95            60  \n",
       "96            48  \n",
       "97             0  \n",
       "98           191  \n",
       "99           280  \n",
       "\n",
       "[100 rows x 3 columns]"
      ]
     },
     "execution_count": 51,
     "metadata": {},
     "output_type": "execute_result"
    }
   ],
   "source": [
    "df = pd.DataFrame(data = dict_data)\n",
    "df.head(100)"
   ]
  }
 ],
 "metadata": {
  "interpreter": {
   "hash": "468ae84480a0cf111ba2e1f9e142a5adb1c1e6e4327e8ed889fe7f588de4372f"
  },
  "kernelspec": {
   "display_name": "Python 3.9.12 ('me')",
   "language": "python",
   "name": "python3"
  },
  "language_info": {
   "codemirror_mode": {
    "name": "ipython",
    "version": 3
   },
   "file_extension": ".py",
   "mimetype": "text/x-python",
   "name": "python",
   "nbconvert_exporter": "python",
   "pygments_lexer": "ipython3",
   "version": "3.9.12"
  },
  "orig_nbformat": 4
 },
 "nbformat": 4,
 "nbformat_minor": 2
}
