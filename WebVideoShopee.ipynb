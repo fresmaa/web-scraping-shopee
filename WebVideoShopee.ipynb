{
 "cells": [
  {
   "cell_type": "code",
   "execution_count": 11,
   "id": "485b01cf-7766-47f3-9b27-c4540d350a90",
   "metadata": {},
   "outputs": [],
   "source": [
    "import pandas as pd\n",
    "from bs4 import BeautifulSoup\n",
    "from selenium import webdriver\n",
    "from selenium.webdriver.chrome.options import Options\n",
    "import re\n",
    "import random"
   ]
  },
  {
   "cell_type": "code",
   "execution_count": 12,
   "id": "aceeccc4",
   "metadata": {},
   "outputs": [
    {
     "name": "stderr",
     "output_type": "stream",
     "text": [
      "C:\\Users\\muham\\AppData\\Local\\Temp\\ipykernel_14844\\3523703561.py:15: DeprecationWarning: executable_path has been deprecated, please pass in a Service object\n",
      "  driver = webdriver.Chrome(executable_path=path, options=chrome_options)\n"
     ]
    }
   ],
   "source": [
    "#Link Digimap\n",
    "main_link = 'https://shopee.co.id/Visval-col.1162690?filters=5&page=0'\n",
    "# path = 'C:/Users/muham/OneDrive - Telkom University/Bot/WebScrapingShopee/bin/chromedriver.exe'\n",
    "path = 'path/to/executable'\n",
    "\n",
    "# Customize chrome display\n",
    "chrome_options = Options()\n",
    "chrome_options.add_argument('--no-sandbox')\n",
    "# chrome_options.add_argument('--headless')\n",
    "chrome_options.add_argument('disable-notifications')\n",
    "chrome_options.add_argument('--disable-infobars')\n",
    "\n",
    "chrome_options.add_experimental_option(\"detach\", True)\n",
    "\n",
    "driver = webdriver.Chrome(executable_path=path, options=chrome_options)\n",
    "driver.get(main_link)"
   ]
  },
  {
   "cell_type": "code",
   "execution_count": 112,
   "id": "3a956f39",
   "metadata": {},
   "outputs": [
    {
     "name": "stdout",
     "output_type": "stream",
     "text": [
      "Michael's Collection - Blazer Wanita Oversized + Celana Wanita Hijab Series | Blazer Set | Setelan Wanita | One Set Wanita 5637 \n",
      " Rp135.000 \n",
      " https://cvf.shopee.co.id/file/62f5caed8d81e4281d60e7c59ca3eaa4 \n",
      " 73%  \n",
      " https://shopee.co.id/Michael's-Collection-Blazer-Wanita-Oversized-Celana-Wanita-Hijab-Series-Blazer-Set-Setelan-Wanita-One-Set-Wanita-5637-i.236406612.9751714770?sp_atk=3aadc339-22ff-4101-af54-1612ef5c4532&xptdk=3aadc339-22ff-4101-af54-1612ef5c4532 \n",
      " 4.8 \n",
      " https://cf.shopee.co.id/file/01167aa60b5e3338ba51e295f648d205\n",
      "1 record inserted.\n"
     ]
    }
   ],
   "source": [
    "tambah = \"%\"\n",
    "html = driver.execute_script(\"return document.getElementsByTagName('html')[0].innerHTML\")\n",
    "soup = BeautifulSoup(html, \"html.parser\")\n",
    "shopee_link = 'https://shopee.co.id'\n",
    "\n",
    "name = soup.find('div', class_='_44qnta').get_text()\n",
    "price = soup.find('div', class_='pqTWkA').get_text()\n",
    "discont = soup.find('div', class_='_0voski')\n",
    "if discont != None :\n",
    "    discont = discont.get_text()\n",
    "else :\n",
    "    discont = random.randrange(50,75) \n",
    "    discont = '{}%'.format(discont)\n",
    "discont = discont.replace(\"off\", \"\")\n",
    "rating = soup.find('div', class_='_1k47d8 _046PXf').get_text()\n",
    "video = soup.find('video')['src']\n",
    "link = driver.current_url\n",
    "\n",
    "img = soup.find('div', class_='A4dsoy qO2bZw')['style']\n",
    "ptr = re.search(\"http.*[)]\",img) # regex to search url till ')'\n",
    "img = img[ptr.start():ptr.end()-1]\n",
    "img = img.replace('_tn\"', \"\")\n",
    "print(name,'\\n',price, '\\n', video, '\\n', discont, '\\n', link, '\\n', rating, '\\n', img)\n",
    "\n",
    "import mysql.connector\n",
    "\n",
    "mydb = mysql.connector.connect(\n",
    "  host=\"localhost\",\n",
    "  user=\"root\",\n",
    "  password=\"\",\n",
    "  database=\"shopee_aff\"\n",
    ")\n",
    "\n",
    "mycursor = mydb.cursor()\n",
    "\n",
    "sql = \"INSERT INTO product_video (name, price, discount, rating, product_url, video_url, img_url) VALUES (%s, %s, %s, %s, %s, %s, %s)\"\n",
    "val = (name, price, discont, rating, link, video, img)\n",
    "mycursor.execute(sql, val)\n",
    "\n",
    "mydb.commit()\n",
    "print(mycursor.rowcount, \"record inserted.\")"
   ]
  }
 ],
 "metadata": {
  "interpreter": {
   "hash": "468ae84480a0cf111ba2e1f9e142a5adb1c1e6e4327e8ed889fe7f588de4372f"
  },
  "kernelspec": {
   "display_name": "Python 3.9.12 ('me')",
   "language": "python",
   "name": "python3"
  },
  "language_info": {
   "codemirror_mode": {
    "name": "ipython",
    "version": 3
   },
   "file_extension": ".py",
   "mimetype": "text/x-python",
   "name": "python",
   "nbconvert_exporter": "python",
   "pygments_lexer": "ipython3",
   "version": "3.9.16"
  }
 },
 "nbformat": 4,
 "nbformat_minor": 5
}
